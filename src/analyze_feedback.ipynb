{
 "cells": [
  {
   "cell_type": "markdown",
   "metadata": {},
   "source": [
    "**Purpose**: Analyze the feedback that are embeded at the end of the tutorials in Galaxy Training Material"
   ]
  },
  {
   "cell_type": "code",
   "execution_count": 1,
   "metadata": {},
   "outputs": [],
   "source": [
    "import matplotlib.pyplot as plt\n",
    "import pandas as pd\n",
    "\n",
    "from pprint import pprint\n",
    "import datetime\n",
    "import emoji"
   ]
  },
  {
   "cell_type": "code",
   "execution_count": 2,
   "metadata": {},
   "outputs": [],
   "source": [
    "url = 'https://docs.google.com/spreadsheets/d/1NfZhi5Jav7kl9zFCkeb7rIC2F8xW1isruv1TeO4WpNI/export?format=tsv'"
   ]
  },
  {
   "cell_type": "code",
   "execution_count": 3,
   "metadata": {},
   "outputs": [
    {
     "data": {
      "text/plain": [
       "'2019-12-03 14:35:45.280608'"
      ]
     },
     "execution_count": 3,
     "metadata": {},
     "output_type": "execute_result"
    }
   ],
   "source": [
    "str(datetime.datetime.now())"
   ]
  },
  {
   "cell_type": "markdown",
   "metadata": {},
   "source": [
    "# Load the feedback"
   ]
  },
  {
   "cell_type": "code",
   "execution_count": 4,
   "metadata": {},
   "outputs": [],
   "source": [
    "df = (pd.read_csv(url, sep='\\t')\n",
    "    # remove last column\n",
    "      .drop(['Make feedback confidential?'], axis=1)\n",
    "    # rename column\n",
    "      .rename(columns = {'Timestamp': 'timestamp',\n",
    "                         'How much did you like this tutorial?': 'note',\n",
    "                         'What did you like?': 'pro',\n",
    "                         'What could be improved?': 'con',\n",
    "                         'Tutorial': 'tutorial_topic'}))\n",
    "# extract topic from tutorial name\n",
    "new = df.tutorial_topic.str[::-1].str.split('(', n = 1, expand = True)\n",
    "df[\"tutorial\"]= new[1].str[::-1].str[:-1]\n",
    "df[\"topic\"]= new[0].str[::-1].str[:-1]\n",
    "df = (df.drop(columns =[\"tutorial_topic\"])\n",
    "    # remove rows with NaN on note, pro and con\n",
    "      .dropna(subset=['note', 'pro', 'con'], how='all')\n",
    "    # replace NaN in note by 0\n",
    "      .fillna(value={'note': 0}))\n",
    "# format note to integer\n",
    "df.note = df.note.astype(int)\n",
    "# format pro and con to string\n",
    "df.pro = df.pro.astype(str)\n",
    "df.con = df.con.astype(str)\n",
    "# format timestamp to remove hour and use datetime\n",
    "df.timestamp = pd.to_datetime(\n",
    "    df.timestamp.str.split(' ', n = 1, expand = True)[0],\n",
    "    dayfirst=True)"
   ]
  },
  {
   "cell_type": "code",
   "execution_count": 5,
   "metadata": {},
   "outputs": [],
   "source": [
    "# change topic for some tutorials\n",
    "df.loc[df.tutorial == 'Formation of the Super-Structures on the Inactive X', 'topic'] = 'Epigenetics'\n",
    "df.loc[df.tutorial == 'Identification of the binding sites of the Estrogen receptor', 'topic'] = 'Epigenetics'\n",
    "df.loc[df.tutorial == 'Identification of the binding sites of the T-cell acute lymphocytic leukemia protein 1 (TAL1)', 'topic'] = 'Epigenetics'\n",
    "df.loc[df.tutorial == 'RAD-Seq Reference-based data analysis', 'topic'] = 'Ecology'\n",
    "df.loc[df.tutorial == 'RAD-Seq de-novo data analysis', 'topic'] = 'Ecology'\n",
    "df.loc[df.tutorial == 'RAD-Seq to construct genetic maps', 'topic'] = 'Ecology'"
   ]
  },
  {
   "cell_type": "markdown",
   "metadata": {},
   "source": [
    "# Aggregate the feedbacks and notes"
   ]
  },
  {
   "cell_type": "code",
   "execution_count": 6,
   "metadata": {},
   "outputs": [],
   "source": [
    "def get_notes(df, name):\n",
    "    '''Aggregage the notes\n",
    "    \n",
    "    :df: dataframe with all feedbacks\n",
    "    \n",
    "    :return: dataframe object with aggregated notes\n",
    "    '''\n",
    "    return (df.note\n",
    "        .value_counts(sort=False)\n",
    "        .to_frame()\n",
    "        .rename(columns= {'note': name}))"
   ]
  },
  {
   "cell_type": "code",
   "execution_count": 7,
   "metadata": {},
   "outputs": [],
   "source": [
    "notes = get_notes(df, 'All topics')"
   ]
  },
  {
   "cell_type": "code",
   "execution_count": 8,
   "metadata": {},
   "outputs": [],
   "source": [
    "def get_topic_df(grouped_by_topic, topic, notes):\n",
    "    '''Extract the dataframe for a topic and plot note histogram\n",
    "    \n",
    "    :grouped_by_topic: groupby object grouping by topic\n",
    "    :topic: topic to extract\n",
    "    \n",
    "    :return: dataframe object for the topic\n",
    "    '''\n",
    "    topic_df = (grouped_by_topic\n",
    "        .get_group(topic)\n",
    "        .drop('topic', 1))\n",
    "    \n",
    "    notes = pd.concat([notes, get_notes(topic_df, topic)], axis=1)\n",
    "    return topic_df, notes\n",
    "\n",
    "\n",
    "def extract_tutorial_feedbacks(topic_df, topic_name):\n",
    "    '''Extract pro/con per tutorial for a topic and \n",
    "    write them in a file\n",
    "    \n",
    "    :topic_df: dataframe object for the topic\n",
    "    :topic_name: name for the topic, name for the file\n",
    "    '''\n",
    "    grouped_by_tuto = topic_df.groupby(by=\"tutorial\")\n",
    "    with open('../results/%s.md' % topic_name, 'w') as f:\n",
    "        for tuto, group in grouped_by_tuto:\n",
    "            # get groups\n",
    "            tuto_df = grouped_by_tuto.get_group(tuto)\n",
    "            pros = []\n",
    "            cons = []\n",
    "            # get pros/cons\n",
    "            for index, row in tuto_df.iterrows():\n",
    "                if row['pro'] != 'nan':\n",
    "                    pros.append(\"%s (*%s*)\" % (row['pro'], row['timestamp']))\n",
    "                if row['con'] != 'nan':\n",
    "                    cons.append(\"%s (*%s*)\" % (row['con'], row['timestamp']))\n",
    "            # write in report file\n",
    "            f.write(\"- **%s**\\n\" % tuto)\n",
    "            if len(pros) > 0:\n",
    "                f.write(\"  - Pro:\\n    - \")\n",
    "                f.write(\"\\n    - \".join(pros))\n",
    "            if len(cons) > 0:\n",
    "                f.write(\"\\n  - Con:\\n    - \")\n",
    "                f.write(\"\\n    - \".join(cons))\n",
    "            f.write(\"\\n\\n\")"
   ]
  },
  {
   "cell_type": "code",
   "execution_count": 9,
   "metadata": {},
   "outputs": [
    {
     "name": "stdout",
     "output_type": "stream",
     "text": [
      "Assembly\n",
      "Computational chemistry\n",
      "Contributing to the Galaxy Training Material\n",
      "Data Manipulation\n",
      "Development in Galaxy\n",
      "Ecology\n",
      "Epigenetics\n",
      "Galaxy Server administration\n",
      "Genome Annotation\n",
      "Imaging\n",
      "Introduction to Galaxy Analyses\n",
      "Metabolomics\n",
      "Metagenomics\n",
      "Proteomics\n",
      "Sequence analysis\n",
      "Statistics and machine learning\n",
      "Teaching and Hosting Galaxy training\n",
      "Transcriptomics\n",
      "User Interface and Features\n",
      "Variant Analysis\n"
     ]
    }
   ],
   "source": [
    "grouped_by_topic = df.groupby(by=\"topic\")\n",
    "for topic in grouped_by_topic.groups:\n",
    "    print(topic)\n",
    "    topic_df, notes = get_topic_df(grouped_by_topic, topic, notes)\n",
    "    topic_name = topic.lower().replace(' ', '-')\n",
    "    extract_tutorial_feedbacks(topic_df, topic_name)"
   ]
  },
  {
   "cell_type": "markdown",
   "metadata": {},
   "source": [
    "Details (pros/cons) for each tutorials are available: https://github.com/bebatut/galaxy-training-material-stats/tree/master/results"
   ]
  },
  {
   "cell_type": "markdown",
   "metadata": {},
   "source": [
    "# General stats about feedback"
   ]
  },
  {
   "cell_type": "markdown",
   "metadata": {},
   "source": [
    "Feedback number:"
   ]
  },
  {
   "cell_type": "code",
   "execution_count": 10,
   "metadata": {},
   "outputs": [
    {
     "data": {
      "text/plain": [
       "810"
      ]
     },
     "execution_count": 10,
     "metadata": {},
     "output_type": "execute_result"
    }
   ],
   "source": [
    "# number of rows\n",
    "len(df)"
   ]
  },
  {
   "cell_type": "markdown",
   "metadata": {},
   "source": [
    "Feedback number over time"
   ]
  },
  {
   "cell_type": "code",
   "execution_count": 11,
   "metadata": {},
   "outputs": [
    {
     "data": {
      "text/plain": [
       "timestamp\n",
       "2018-09     52\n",
       "2018-10     63\n",
       "2018-11     39\n",
       "2018-12     28\n",
       "2019-01     37\n",
       "2019-02     41\n",
       "2019-03     37\n",
       "2019-04     61\n",
       "2019-05     42\n",
       "2019-06     43\n",
       "2019-07     62\n",
       "2019-08     62\n",
       "2019-09     74\n",
       "2019-10    111\n",
       "2019-11     51\n",
       "2019-12      7\n",
       "Freq: M, Name: timestamp, dtype: int64"
      ]
     },
     "execution_count": 11,
     "metadata": {},
     "output_type": "execute_result"
    }
   ],
   "source": [
    "months = df.timestamp.dt.to_period(\"M\")\n",
    "nb_per_months = (df\n",
    "                 .groupby(months)\n",
    "                 .count()\n",
    "                 .timestamp)\n",
    "nb_per_months"
   ]
  },
  {
   "cell_type": "code",
   "execution_count": 12,
   "metadata": {},
   "outputs": [
    {
     "data": {
      "image/png": "[encoded data removed]",
      "text/plain": [
       "<Figure size 432x288 with 1 Axes>"
      ]
     },
     "metadata": {
      "needs_background": "light"
     },
     "output_type": "display_data"
    }
   ],
   "source": [
    "plt.figure()\n",
    "(nb_per_months\n",
    "    .cumsum()\n",
    "    .plot())\n",
    "plt.xlabel('Months')\n",
    "plt.ylabel('Cumulative number of feedback')\n",
    "plt.show()"
   ]
  },
  {
   "cell_type": "markdown",
   "metadata": {},
   "source": [
    "Feedback number per topics"
   ]
  },
  {
   "cell_type": "code",
   "execution_count": 13,
   "metadata": {},
   "outputs": [
    {
     "data": {
      "text/plain": [
       "topic\n",
       "Introduction to Galaxy Analyses                 340\n",
       "Transcriptomics                                 144\n",
       "Sequence analysis                                92\n",
       "Metagenomics                                     49\n",
       "Galaxy Server administration                     27\n",
       "Epigenetics                                      24\n",
       "Variant Analysis                                 23\n",
       "Assembly                                         22\n",
       "Genome Annotation                                19\n",
       "Proteomics                                       15\n",
       "User Interface and Features                      12\n",
       "Statistics and machine learning                   8\n",
       "Contributing to the Galaxy Training Material      8\n",
       "Imaging                                           6\n",
       "Data Manipulation                                 6\n",
       "Metabolomics                                      4\n",
       "Computational chemistry                           3\n",
       "Ecology                                           1\n",
       "Development in Galaxy                             1\n",
       "Teaching and Hosting Galaxy training              1\n",
       "Name: timestamp, dtype: int64"
      ]
     },
     "execution_count": 13,
     "metadata": {},
     "output_type": "execute_result"
    }
   ],
   "source": [
    "(grouped_by_topic\n",
    "     .count()\n",
    "     .sort_values('timestamp', ascending=False)\n",
    "     .timestamp)"
   ]
  },
  {
   "cell_type": "markdown",
   "metadata": {},
   "source": [
    "Top 10 tutorials with feedbacks"
   ]
  },
  {
   "cell_type": "code",
   "execution_count": 14,
   "metadata": {},
   "outputs": [
    {
     "data": {
      "text/plain": [
       "tutorial\n",
       "A short introduction to Galaxy                        174\n",
       "Galaxy 101                                             80\n",
       "Quality Control                                        73\n",
       "Reference-based RNA-Seq data analysis                  56\n",
       "From peaks to genes                                    44\n",
       "Visualization of RNA-Seq results with Volcano Plot     20\n",
       "Mapping                                                19\n",
       "NGS data logistics                                     19\n",
       "16S Microbial Analysis with mothur (extended)          16\n",
       "RNA-Seq reads to counts                                14\n",
       "Name: timestamp, dtype: int64"
      ]
     },
     "execution_count": 14,
     "metadata": {},
     "output_type": "execute_result"
    }
   ],
   "source": [
    "(df\n",
    "    .groupby(by=\"tutorial\")\n",
    "    .count()\n",
    "    .sort_values('timestamp', ascending=False)\n",
    "    .timestamp\n",
    "    .head(10))"
   ]
  },
  {
   "cell_type": "markdown",
   "metadata": {},
   "source": [
    "# Notes"
   ]
  },
  {
   "cell_type": "code",
   "execution_count": 15,
   "metadata": {},
   "outputs": [],
   "source": [
    "def plot_note_histogram(s, title):\n",
    "    plt.figure()\n",
    "    s.plot(kind='barh', color='k', ylim=(0,5), xlim=(0,1), title=title)\n",
    "    plt.xlabel('Proportion of feedback')\n",
    "    plt.show()"
   ]
  },
  {
   "cell_type": "code",
   "execution_count": 16,
   "metadata": {},
   "outputs": [
    {
     "data": {
      "text/html": [
       "<div>\n",
       "<style scoped>\n",
       "    .dataframe tbody tr th:only-of-type {\n",
       "        vertical-align: middle;\n",
       "    }\n",
       "\n",
       "    .dataframe tbody tr th {\n",
       "        vertical-align: top;\n",
       "    }\n",
       "\n",
       "    .dataframe thead th {\n",
       "        text-align: right;\n",
       "    }\n",
       "</style>\n",
       "<table border=\"1\" class=\"dataframe\">\n",
       "  <thead>\n",
       "    <tr style=\"text-align: right;\">\n",
       "      <th></th>\n",
       "      <th>All topics</th>\n",
       "      <th>Assembly</th>\n",
       "      <th>Computational chemistry</th>\n",
       "      <th>Contributing to the Galaxy Training Material</th>\n",
       "      <th>Data Manipulation</th>\n",
       "      <th>Development in Galaxy</th>\n",
       "      <th>Ecology</th>\n",
       "      <th>Epigenetics</th>\n",
       "      <th>Galaxy Server administration</th>\n",
       "      <th>Genome Annotation</th>\n",
       "      <th>...</th>\n",
       "      <th>Introduction to Galaxy Analyses</th>\n",
       "      <th>Metabolomics</th>\n",
       "      <th>Metagenomics</th>\n",
       "      <th>Proteomics</th>\n",
       "      <th>Sequence analysis</th>\n",
       "      <th>Statistics and machine learning</th>\n",
       "      <th>Teaching and Hosting Galaxy training</th>\n",
       "      <th>Transcriptomics</th>\n",
       "      <th>User Interface and Features</th>\n",
       "      <th>Variant Analysis</th>\n",
       "    </tr>\n",
       "  </thead>\n",
       "  <tbody>\n",
       "    <tr>\n",
       "      <td>No value</td>\n",
       "      <td>6</td>\n",
       "      <td>1</td>\n",
       "      <td>0</td>\n",
       "      <td>0</td>\n",
       "      <td>0</td>\n",
       "      <td>0</td>\n",
       "      <td>0</td>\n",
       "      <td>0</td>\n",
       "      <td>0</td>\n",
       "      <td>2</td>\n",
       "      <td>...</td>\n",
       "      <td>0</td>\n",
       "      <td>0</td>\n",
       "      <td>0</td>\n",
       "      <td>0</td>\n",
       "      <td>0</td>\n",
       "      <td>0</td>\n",
       "      <td>0</td>\n",
       "      <td>3</td>\n",
       "      <td>0</td>\n",
       "      <td>0</td>\n",
       "    </tr>\n",
       "    <tr>\n",
       "      <td>1</td>\n",
       "      <td>39</td>\n",
       "      <td>0</td>\n",
       "      <td>0</td>\n",
       "      <td>1</td>\n",
       "      <td>0</td>\n",
       "      <td>0</td>\n",
       "      <td>0</td>\n",
       "      <td>2</td>\n",
       "      <td>1</td>\n",
       "      <td>4</td>\n",
       "      <td>...</td>\n",
       "      <td>12</td>\n",
       "      <td>0</td>\n",
       "      <td>2</td>\n",
       "      <td>1</td>\n",
       "      <td>6</td>\n",
       "      <td>0</td>\n",
       "      <td>0</td>\n",
       "      <td>4</td>\n",
       "      <td>0</td>\n",
       "      <td>6</td>\n",
       "    </tr>\n",
       "    <tr>\n",
       "      <td>2</td>\n",
       "      <td>15</td>\n",
       "      <td>1</td>\n",
       "      <td>0</td>\n",
       "      <td>1</td>\n",
       "      <td>0</td>\n",
       "      <td>0</td>\n",
       "      <td>0</td>\n",
       "      <td>3</td>\n",
       "      <td>0</td>\n",
       "      <td>2</td>\n",
       "      <td>...</td>\n",
       "      <td>3</td>\n",
       "      <td>0</td>\n",
       "      <td>1</td>\n",
       "      <td>0</td>\n",
       "      <td>2</td>\n",
       "      <td>0</td>\n",
       "      <td>0</td>\n",
       "      <td>0</td>\n",
       "      <td>0</td>\n",
       "      <td>2</td>\n",
       "    </tr>\n",
       "    <tr>\n",
       "      <td>3</td>\n",
       "      <td>45</td>\n",
       "      <td>1</td>\n",
       "      <td>1</td>\n",
       "      <td>1</td>\n",
       "      <td>0</td>\n",
       "      <td>0</td>\n",
       "      <td>0</td>\n",
       "      <td>1</td>\n",
       "      <td>1</td>\n",
       "      <td>1</td>\n",
       "      <td>...</td>\n",
       "      <td>16</td>\n",
       "      <td>0</td>\n",
       "      <td>5</td>\n",
       "      <td>0</td>\n",
       "      <td>6</td>\n",
       "      <td>0</td>\n",
       "      <td>0</td>\n",
       "      <td>9</td>\n",
       "      <td>2</td>\n",
       "      <td>1</td>\n",
       "    </tr>\n",
       "    <tr>\n",
       "      <td>4</td>\n",
       "      <td>178</td>\n",
       "      <td>9</td>\n",
       "      <td>0</td>\n",
       "      <td>0</td>\n",
       "      <td>5</td>\n",
       "      <td>0</td>\n",
       "      <td>0</td>\n",
       "      <td>9</td>\n",
       "      <td>4</td>\n",
       "      <td>3</td>\n",
       "      <td>...</td>\n",
       "      <td>62</td>\n",
       "      <td>0</td>\n",
       "      <td>12</td>\n",
       "      <td>5</td>\n",
       "      <td>28</td>\n",
       "      <td>3</td>\n",
       "      <td>0</td>\n",
       "      <td>33</td>\n",
       "      <td>3</td>\n",
       "      <td>2</td>\n",
       "    </tr>\n",
       "    <tr>\n",
       "      <td>5</td>\n",
       "      <td>527</td>\n",
       "      <td>10</td>\n",
       "      <td>2</td>\n",
       "      <td>5</td>\n",
       "      <td>1</td>\n",
       "      <td>1</td>\n",
       "      <td>1</td>\n",
       "      <td>9</td>\n",
       "      <td>21</td>\n",
       "      <td>7</td>\n",
       "      <td>...</td>\n",
       "      <td>247</td>\n",
       "      <td>4</td>\n",
       "      <td>29</td>\n",
       "      <td>9</td>\n",
       "      <td>50</td>\n",
       "      <td>5</td>\n",
       "      <td>1</td>\n",
       "      <td>95</td>\n",
       "      <td>7</td>\n",
       "      <td>12</td>\n",
       "    </tr>\n",
       "  </tbody>\n",
       "</table>\n",
       "<p>6 rows × 21 columns</p>\n",
       "</div>"
      ],
      "text/plain": [
       "          All topics  Assembly  Computational chemistry  \\\n",
       "No value           6         1                        0   \n",
       "1                 39         0                        0   \n",
       "2                 15         1                        0   \n",
       "3                 45         1                        1   \n",
       "4                178         9                        0   \n",
       "5                527        10                        2   \n",
       "\n",
       "          Contributing to the Galaxy Training Material  Data Manipulation  \\\n",
       "No value                                             0                  0   \n",
       "1                                                    1                  0   \n",
       "2                                                    1                  0   \n",
       "3                                                    1                  0   \n",
       "4                                                    0                  5   \n",
       "5                                                    5                  1   \n",
       "\n",
       "          Development in Galaxy  Ecology  Epigenetics  \\\n",
       "No value                      0        0            0   \n",
       "1                             0        0            2   \n",
       "2                             0        0            3   \n",
       "3                             0        0            1   \n",
       "4                             0        0            9   \n",
       "5                             1        1            9   \n",
       "\n",
       "          Galaxy Server administration  Genome Annotation  ...  \\\n",
       "No value                             0                  2  ...   \n",
       "1                                    1                  4  ...   \n",
       "2                                    0                  2  ...   \n",
       "3                                    1                  1  ...   \n",
       "4                                    4                  3  ...   \n",
       "5                                   21                  7  ...   \n",
       "\n",
       "          Introduction to Galaxy Analyses  Metabolomics  Metagenomics  \\\n",
       "No value                                0             0             0   \n",
       "1                                      12             0             2   \n",
       "2                                       3             0             1   \n",
       "3                                      16             0             5   \n",
       "4                                      62             0            12   \n",
       "5                                     247             4            29   \n",
       "\n",
       "          Proteomics  Sequence analysis  Statistics and machine learning  \\\n",
       "No value           0                  0                                0   \n",
       "1                  1                  6                                0   \n",
       "2                  0                  2                                0   \n",
       "3                  0                  6                                0   \n",
       "4                  5                 28                                3   \n",
       "5                  9                 50                                5   \n",
       "\n",
       "          Teaching and Hosting Galaxy training  Transcriptomics  \\\n",
       "No value                                     0                3   \n",
       "1                                            0                4   \n",
       "2                                            0                0   \n",
       "3                                            0                9   \n",
       "4                                            0               33   \n",
       "5                                            1               95   \n",
       "\n",
       "          User Interface and Features  Variant Analysis  \n",
       "No value                            0                 0  \n",
       "1                                   0                 6  \n",
       "2                                   0                 2  \n",
       "3                                   2                 1  \n",
       "4                                   3                 2  \n",
       "5                                   7                12  \n",
       "\n",
       "[6 rows x 21 columns]"
      ]
     },
     "execution_count": 16,
     "metadata": {},
     "output_type": "execute_result"
    }
   ],
   "source": [
    "notes = (notes\n",
    "         .fillna(0.0)\n",
    "         .astype(int)\n",
    "         .rename(index = {0: 'No value'}))\n",
    "# 1: emoji.emojize(':-1:', use_aliases=True)\n",
    "# 5: emoji.emojize(':heart:', use_aliases=True)\n",
    "notes"
   ]
  },
  {
   "cell_type": "code",
   "execution_count": 17,
   "metadata": {
    "scrolled": false
   },
   "outputs": [
    {
     "data": {
      "image/png": "[encoded data removed]",
      "text/plain": [
       "<Figure size 432x288 with 1 Axes>"
      ]
     },
     "metadata": {
      "needs_background": "light"
     },
     "output_type": "display_data"
    },
    {
     "data": {
      "image/png": "[encoded data removed]",
      "text/plain": [
       "<Figure size 432x288 with 1 Axes>"
      ]
     },
     "metadata": {
      "needs_background": "light"
     },
     "output_type": "display_data"
    },
    {
     "data": {
      "image/png": "[encoded data removed]",
      "text/plain": [
       "<Figure size 432x288 with 1 Axes>"
      ]
     },
     "metadata": {
      "needs_background": "light"
     },
     "output_type": "display_data"
    },
    {
     "data": {
      "image/png": "[encoded data removed]",
      "text/plain": [
       "<Figure size 432x288 with 1 Axes>"
      ]
     },
     "metadata": {
      "needs_background": "light"
     },
     "output_type": "display_data"
    },
    {
     "data": {
      "image/png": "[encoded data removed]",
      "text/plain": [
       "<Figure size 432x288 with 1 Axes>"
      ]
     },
     "metadata": {
      "needs_background": "light"
     },
     "output_type": "display_data"
    },
    {
     "data": {
      "image/png": "[encoded data removed]",
      "text/plain": [
       "<Figure size 432x288 with 1 Axes>"
      ]
     },
     "metadata": {
      "needs_background": "light"
     },
     "output_type": "display_data"
    },
    {
     "data": {
      "image/png": "[encoded data removed]",
      "text/plain": [
       "<Figure size 432x288 with 1 Axes>"
      ]
     },
     "metadata": {
      "needs_background": "light"
     },
     "output_type": "display_data"
    },
    {
     "data": {
      "image/png": "[encoded data removed]",
      "text/plain": [
       "<Figure size 432x288 with 1 Axes>"
      ]
     },
     "metadata": {
      "needs_background": "light"
     },
     "output_type": "display_data"
    },
    {
     "data": {
      "image/png": "[encoded data removed]",
      "text/plain": [
       "<Figure size 432x288 with 1 Axes>"
      ]
     },
     "metadata": {
      "needs_background": "light"
     },
     "output_type": "display_data"
    },
    {
     "data": {
      "image/png": "[encoded data removed]",
      "text/plain": [
       "<Figure size 432x288 with 1 Axes>"
      ]
     },
     "metadata": {
      "needs_background": "light"
     },
     "output_type": "display_data"
    },
    {
     "data": {
      "image/png": "[encoded data removed]",
      "text/plain": [
       "<Figure size 432x288 with 1 Axes>"
      ]
     },
     "metadata": {
      "needs_background": "light"
     },
     "output_type": "display_data"
    },
    {
     "data": {
      "image/png": "[encoded data removed]",
      "text/plain": [
       "<Figure size 432x288 with 1 Axes>"
      ]
     },
     "metadata": {
      "needs_background": "light"
     },
     "output_type": "display_data"
    },
    {
     "data": {
      "image/png": "[encoded data removed]",
      "text/plain": [
       "<Figure size 432x288 with 1 Axes>"
      ]
     },
     "metadata": {
      "needs_background": "light"
     },
     "output_type": "display_data"
    },
    {
     "data": {
      "image/png": "[encoded data removed]",
      "text/plain": [
       "<Figure size 432x288 with 1 Axes>"
      ]
     },
     "metadata": {
      "needs_background": "light"
     },
     "output_type": "display_data"
    },
    {
     "data": {
      "image/png": "[encoded data removed]",
      "text/plain": [
       "<Figure size 432x288 with 1 Axes>"
      ]
     },
     "metadata": {
      "needs_background": "light"
     },
     "output_type": "display_data"
    },
    {
     "data": {
      "image/png": "[encoded data removed]",
      "text/plain": [
       "<Figure size 432x288 with 1 Axes>"
      ]
     },
     "metadata": {
      "needs_background": "light"
     },
     "output_type": "display_data"
    },
    {
     "data": {
      "image/png": "[encoded data removed]",
      "text/plain": [
       "<Figure size 432x288 with 1 Axes>"
      ]
     },
     "metadata": {
      "needs_background": "light"
     },
     "output_type": "display_data"
    },
    {
     "data": {
      "image/png": "[encoded data removed]",
      "text/plain": [
       "<Figure size 432x288 with 1 Axes>"
      ]
     },
     "metadata": {
      "needs_background": "light"
     },
     "output_type": "display_data"
    },
    {
     "data": {
      "image/png": "[encoded data removed]",
      "text/plain": [
       "<Figure size 432x288 with 1 Axes>"
      ]
     },
     "metadata": {
      "needs_background": "light"
     },
     "output_type": "display_data"
    },
    {
     "data": {
      "image/png": "[encoded data removed]",
      "text/plain": [
       "<Figure size 432x288 with 1 Axes>"
      ]
     },
     "metadata": {
      "needs_background": "light"
     },
     "output_type": "display_data"
    },
    {
     "data": {
      "image/png": "[encoded data removed]",
      "text/plain": [
       "<Figure size 432x288 with 1 Axes>"
      ]
     },
     "metadata": {
      "needs_background": "light"
     },
     "output_type": "display_data"
    }
   ],
   "source": [
    "notes_prop = (notes/notes.sum().round(2))\n",
    "for col in notes_prop.columns:\n",
    "    plot_note_histogram(notes_prop[col], col)"
   ]
  },
  {
   "cell_type": "code",
   "execution_count": 18,
   "metadata": {},
   "outputs": [
    {
     "data": {
      "text/html": [
       "<div>\n",
       "<style scoped>\n",
       "    .dataframe tbody tr th:only-of-type {\n",
       "        vertical-align: middle;\n",
       "    }\n",
       "\n",
       "    .dataframe tbody tr th {\n",
       "        vertical-align: top;\n",
       "    }\n",
       "\n",
       "    .dataframe thead th {\n",
       "        text-align: right;\n",
       "    }\n",
       "</style>\n",
       "<table border=\"1\" class=\"dataframe\">\n",
       "  <thead>\n",
       "    <tr style=\"text-align: right;\">\n",
       "      <th></th>\n",
       "      <th>All topics</th>\n",
       "      <th>Assembly</th>\n",
       "      <th>Computational chemistry</th>\n",
       "      <th>Contributing to the Galaxy Training Material</th>\n",
       "      <th>Data Manipulation</th>\n",
       "      <th>Development in Galaxy</th>\n",
       "      <th>Ecology</th>\n",
       "      <th>Epigenetics</th>\n",
       "      <th>Galaxy Server administration</th>\n",
       "      <th>Genome Annotation</th>\n",
       "      <th>...</th>\n",
       "      <th>Introduction to Galaxy Analyses</th>\n",
       "      <th>Metabolomics</th>\n",
       "      <th>Metagenomics</th>\n",
       "      <th>Proteomics</th>\n",
       "      <th>Sequence analysis</th>\n",
       "      <th>Statistics and machine learning</th>\n",
       "      <th>Teaching and Hosting Galaxy training</th>\n",
       "      <th>Transcriptomics</th>\n",
       "      <th>User Interface and Features</th>\n",
       "      <th>Variant Analysis</th>\n",
       "    </tr>\n",
       "  </thead>\n",
       "  <tbody>\n",
       "    <tr>\n",
       "      <td>No value</td>\n",
       "      <td>0.007407</td>\n",
       "      <td>0.045455</td>\n",
       "      <td>0.000000</td>\n",
       "      <td>0.000</td>\n",
       "      <td>0.000000</td>\n",
       "      <td>0.0</td>\n",
       "      <td>0.0</td>\n",
       "      <td>0.000000</td>\n",
       "      <td>0.000000</td>\n",
       "      <td>0.105263</td>\n",
       "      <td>...</td>\n",
       "      <td>0.000000</td>\n",
       "      <td>0.0</td>\n",
       "      <td>0.000000</td>\n",
       "      <td>0.000000</td>\n",
       "      <td>0.000000</td>\n",
       "      <td>0.000</td>\n",
       "      <td>0.0</td>\n",
       "      <td>0.020833</td>\n",
       "      <td>0.000000</td>\n",
       "      <td>0.000000</td>\n",
       "    </tr>\n",
       "    <tr>\n",
       "      <td>1</td>\n",
       "      <td>0.048148</td>\n",
       "      <td>0.000000</td>\n",
       "      <td>0.000000</td>\n",
       "      <td>0.125</td>\n",
       "      <td>0.000000</td>\n",
       "      <td>0.0</td>\n",
       "      <td>0.0</td>\n",
       "      <td>0.083333</td>\n",
       "      <td>0.037037</td>\n",
       "      <td>0.210526</td>\n",
       "      <td>...</td>\n",
       "      <td>0.035294</td>\n",
       "      <td>0.0</td>\n",
       "      <td>0.040816</td>\n",
       "      <td>0.066667</td>\n",
       "      <td>0.065217</td>\n",
       "      <td>0.000</td>\n",
       "      <td>0.0</td>\n",
       "      <td>0.027778</td>\n",
       "      <td>0.000000</td>\n",
       "      <td>0.260870</td>\n",
       "    </tr>\n",
       "    <tr>\n",
       "      <td>2</td>\n",
       "      <td>0.018519</td>\n",
       "      <td>0.045455</td>\n",
       "      <td>0.000000</td>\n",
       "      <td>0.125</td>\n",
       "      <td>0.000000</td>\n",
       "      <td>0.0</td>\n",
       "      <td>0.0</td>\n",
       "      <td>0.125000</td>\n",
       "      <td>0.000000</td>\n",
       "      <td>0.105263</td>\n",
       "      <td>...</td>\n",
       "      <td>0.008824</td>\n",
       "      <td>0.0</td>\n",
       "      <td>0.020408</td>\n",
       "      <td>0.000000</td>\n",
       "      <td>0.021739</td>\n",
       "      <td>0.000</td>\n",
       "      <td>0.0</td>\n",
       "      <td>0.000000</td>\n",
       "      <td>0.000000</td>\n",
       "      <td>0.086957</td>\n",
       "    </tr>\n",
       "    <tr>\n",
       "      <td>3</td>\n",
       "      <td>0.055556</td>\n",
       "      <td>0.045455</td>\n",
       "      <td>0.333333</td>\n",
       "      <td>0.125</td>\n",
       "      <td>0.000000</td>\n",
       "      <td>0.0</td>\n",
       "      <td>0.0</td>\n",
       "      <td>0.041667</td>\n",
       "      <td>0.037037</td>\n",
       "      <td>0.052632</td>\n",
       "      <td>...</td>\n",
       "      <td>0.047059</td>\n",
       "      <td>0.0</td>\n",
       "      <td>0.102041</td>\n",
       "      <td>0.000000</td>\n",
       "      <td>0.065217</td>\n",
       "      <td>0.000</td>\n",
       "      <td>0.0</td>\n",
       "      <td>0.062500</td>\n",
       "      <td>0.166667</td>\n",
       "      <td>0.043478</td>\n",
       "    </tr>\n",
       "    <tr>\n",
       "      <td>4</td>\n",
       "      <td>0.219753</td>\n",
       "      <td>0.409091</td>\n",
       "      <td>0.000000</td>\n",
       "      <td>0.000</td>\n",
       "      <td>0.833333</td>\n",
       "      <td>0.0</td>\n",
       "      <td>0.0</td>\n",
       "      <td>0.375000</td>\n",
       "      <td>0.148148</td>\n",
       "      <td>0.157895</td>\n",
       "      <td>...</td>\n",
       "      <td>0.182353</td>\n",
       "      <td>0.0</td>\n",
       "      <td>0.244898</td>\n",
       "      <td>0.333333</td>\n",
       "      <td>0.304348</td>\n",
       "      <td>0.375</td>\n",
       "      <td>0.0</td>\n",
       "      <td>0.229167</td>\n",
       "      <td>0.250000</td>\n",
       "      <td>0.086957</td>\n",
       "    </tr>\n",
       "    <tr>\n",
       "      <td>5</td>\n",
       "      <td>0.650617</td>\n",
       "      <td>0.454545</td>\n",
       "      <td>0.666667</td>\n",
       "      <td>0.625</td>\n",
       "      <td>0.166667</td>\n",
       "      <td>1.0</td>\n",
       "      <td>1.0</td>\n",
       "      <td>0.375000</td>\n",
       "      <td>0.777778</td>\n",
       "      <td>0.368421</td>\n",
       "      <td>...</td>\n",
       "      <td>0.726471</td>\n",
       "      <td>1.0</td>\n",
       "      <td>0.591837</td>\n",
       "      <td>0.600000</td>\n",
       "      <td>0.543478</td>\n",
       "      <td>0.625</td>\n",
       "      <td>1.0</td>\n",
       "      <td>0.659722</td>\n",
       "      <td>0.583333</td>\n",
       "      <td>0.521739</td>\n",
       "    </tr>\n",
       "  </tbody>\n",
       "</table>\n",
       "<p>6 rows × 21 columns</p>\n",
       "</div>"
      ],
      "text/plain": [
       "          All topics  Assembly  Computational chemistry  \\\n",
       "No value    0.007407  0.045455                 0.000000   \n",
       "1           0.048148  0.000000                 0.000000   \n",
       "2           0.018519  0.045455                 0.000000   \n",
       "3           0.055556  0.045455                 0.333333   \n",
       "4           0.219753  0.409091                 0.000000   \n",
       "5           0.650617  0.454545                 0.666667   \n",
       "\n",
       "          Contributing to the Galaxy Training Material  Data Manipulation  \\\n",
       "No value                                         0.000           0.000000   \n",
       "1                                                0.125           0.000000   \n",
       "2                                                0.125           0.000000   \n",
       "3                                                0.125           0.000000   \n",
       "4                                                0.000           0.833333   \n",
       "5                                                0.625           0.166667   \n",
       "\n",
       "          Development in Galaxy  Ecology  Epigenetics  \\\n",
       "No value                    0.0      0.0     0.000000   \n",
       "1                           0.0      0.0     0.083333   \n",
       "2                           0.0      0.0     0.125000   \n",
       "3                           0.0      0.0     0.041667   \n",
       "4                           0.0      0.0     0.375000   \n",
       "5                           1.0      1.0     0.375000   \n",
       "\n",
       "          Galaxy Server administration  Genome Annotation  ...  \\\n",
       "No value                      0.000000           0.105263  ...   \n",
       "1                             0.037037           0.210526  ...   \n",
       "2                             0.000000           0.105263  ...   \n",
       "3                             0.037037           0.052632  ...   \n",
       "4                             0.148148           0.157895  ...   \n",
       "5                             0.777778           0.368421  ...   \n",
       "\n",
       "          Introduction to Galaxy Analyses  Metabolomics  Metagenomics  \\\n",
       "No value                         0.000000           0.0      0.000000   \n",
       "1                                0.035294           0.0      0.040816   \n",
       "2                                0.008824           0.0      0.020408   \n",
       "3                                0.047059           0.0      0.102041   \n",
       "4                                0.182353           0.0      0.244898   \n",
       "5                                0.726471           1.0      0.591837   \n",
       "\n",
       "          Proteomics  Sequence analysis  Statistics and machine learning  \\\n",
       "No value    0.000000           0.000000                            0.000   \n",
       "1           0.066667           0.065217                            0.000   \n",
       "2           0.000000           0.021739                            0.000   \n",
       "3           0.000000           0.065217                            0.000   \n",
       "4           0.333333           0.304348                            0.375   \n",
       "5           0.600000           0.543478                            0.625   \n",
       "\n",
       "          Teaching and Hosting Galaxy training  Transcriptomics  \\\n",
       "No value                                   0.0         0.020833   \n",
       "1                                          0.0         0.027778   \n",
       "2                                          0.0         0.000000   \n",
       "3                                          0.0         0.062500   \n",
       "4                                          0.0         0.229167   \n",
       "5                                          1.0         0.659722   \n",
       "\n",
       "          User Interface and Features  Variant Analysis  \n",
       "No value                     0.000000          0.000000  \n",
       "1                            0.000000          0.260870  \n",
       "2                            0.000000          0.086957  \n",
       "3                            0.166667          0.043478  \n",
       "4                            0.250000          0.086957  \n",
       "5                            0.583333          0.521739  \n",
       "\n",
       "[6 rows x 21 columns]"
      ]
     },
     "execution_count": 18,
     "metadata": {},
     "output_type": "execute_result"
    }
   ],
   "source": [
    "notes_prop"
   ]
  }
 ],
 "metadata": {
  "hide_input": false,
  "kernelspec": {
   "display_name": "Python 3",
   "language": "python",
   "name": "python3"
  },
  "language_info": {
   "codemirror_mode": {
    "name": "ipython",
    "version": 3
   },
   "file_extension": ".py",
   "mimetype": "text/x-python",
   "name": "python",
   "nbconvert_exporter": "python",
   "pygments_lexer": "ipython3",
   "version": "3.6.7"
  },
  "toc": {
   "nav_menu": {},
   "number_sections": true,
   "sideBar": true,
   "skip_h1_title": false,
   "title_cell": "Table of Contents",
   "title_sidebar": "Contents",
   "toc_cell": false,
   "toc_position": {},
   "toc_section_display": true,
   "toc_window_display": false
  }
 },
 "nbformat": 4,
 "nbformat_minor": 2
}
