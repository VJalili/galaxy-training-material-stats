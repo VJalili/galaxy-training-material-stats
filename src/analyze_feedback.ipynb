{
 "cells": [
  {
   "cell_type": "markdown",
   "metadata": {},
   "source": [
    "Analyze the Google drive feedback (exported as tsv in `data/feedback.tsv`) that are embeded at the end of tutorials"
   ]
  },
  {
   "cell_type": "code",
   "execution_count": 1,
   "metadata": {},
   "outputs": [
    {
     "name": "stdout",
     "output_type": "stream",
     "text": [
      "python is /Users/bebatut/miniconda3/envs/galaxy-training-material-stats/bin/python\r\n"
     ]
    }
   ],
   "source": [
    "!type python"
   ]
  },
  {
   "cell_type": "code",
   "execution_count": 2,
   "metadata": {},
   "outputs": [],
   "source": [
    "import matplotlib.pyplot as plt\n",
    "import pandas as pd\n",
    "\n",
    "from pprint import pprint"
   ]
  },
  {
   "cell_type": "markdown",
   "metadata": {},
   "source": [
    "# Load the feedback"
   ]
  },
  {
   "cell_type": "code",
   "execution_count": 54,
   "metadata": {},
   "outputs": [
    {
     "data": {
      "text/plain": [
       "443"
      ]
     },
     "execution_count": 54,
     "metadata": {},
     "output_type": "execute_result"
    }
   ],
   "source": [
    "df = pd.read_csv('../data/feedback.tsv', sep='\\t')\n",
    "# remove last column\n",
    "df = df.drop(['Make feedback confidential?'], axis=1)\n",
    "# rename column\n",
    "df = df.rename(columns = {'Timestamp': 'timestamp',\n",
    "    'How much did you like this tutorial?': 'note',\n",
    "    'What did you like?': 'pro',\n",
    "    'What could be improved?': 'con',\n",
    "    'Tutorial': 'tutorial_topic'})\n",
    "# extract topic from tutorial name\n",
    "new = df.tutorial_topic.str.split('(', n = 1, expand = True) \n",
    "df[\"tutorial\"]= new[0] \n",
    "df[\"topic\"]= new[1].str[:-1]\n",
    "df = df.drop(columns =[\"tutorial_topic\"])\n",
    "# remove rows with NaN on note, pro and con\n",
    "df = df.dropna(subset=['note', 'pro', 'con'], how='all')\n",
    "# replace NaN in note by 0\n",
    "df = df.fillna(value={'note': 0})\n",
    "# format note to integer\n",
    "df.note = df.note.astype(int)\n",
    "# number of rows\n",
    "len(df)"
   ]
  },
  {
   "cell_type": "code",
   "execution_count": 53,
   "metadata": {},
   "outputs": [
    {
     "data": {
      "text/html": [
       "<div>\n",
       "<style scoped>\n",
       "    .dataframe tbody tr th:only-of-type {\n",
       "        vertical-align: middle;\n",
       "    }\n",
       "\n",
       "    .dataframe tbody tr th {\n",
       "        vertical-align: top;\n",
       "    }\n",
       "\n",
       "    .dataframe thead th {\n",
       "        text-align: right;\n",
       "    }\n",
       "</style>\n",
       "<table border=\"1\" class=\"dataframe\">\n",
       "  <thead>\n",
       "    <tr style=\"text-align: right;\">\n",
       "      <th></th>\n",
       "      <th>timestamp</th>\n",
       "      <th>note</th>\n",
       "      <th>pro</th>\n",
       "      <th>con</th>\n",
       "      <th>tutorial</th>\n",
       "      <th>topic</th>\n",
       "    </tr>\n",
       "  </thead>\n",
       "  <tbody>\n",
       "    <tr>\n",
       "      <th>0</th>\n",
       "      <td>09/09/2018 12:35:00</td>\n",
       "      <td>4</td>\n",
       "      <td>NaN</td>\n",
       "      <td>the clear instruction pattern</td>\n",
       "      <td>A short introduction to Galaxy</td>\n",
       "      <td>Introduction to Galaxy Analyses</td>\n",
       "    </tr>\n",
       "    <tr>\n",
       "      <th>1</th>\n",
       "      <td>11/09/2018 23:03:53</td>\n",
       "      <td>5</td>\n",
       "      <td>very detailed</td>\n",
       "      <td>NaN</td>\n",
       "      <td>A short introduction to Galaxy</td>\n",
       "      <td>Introduction to Galaxy Analyses</td>\n",
       "    </tr>\n",
       "    <tr>\n",
       "      <th>2</th>\n",
       "      <td>14/09/2018 21:19:59</td>\n",
       "      <td>5</td>\n",
       "      <td>very detailed and easy to follow, even for a c...</td>\n",
       "      <td>NaN</td>\n",
       "      <td>Galaxy 101</td>\n",
       "      <td>Introduction to Galaxy Analyses</td>\n",
       "    </tr>\n",
       "    <tr>\n",
       "      <th>3</th>\n",
       "      <td>15/09/2018 15:24:55</td>\n",
       "      <td>5</td>\n",
       "      <td>very detailed and easy to follow, thank you</td>\n",
       "      <td>NaN</td>\n",
       "      <td>Introduction to Genomics and Galaxy</td>\n",
       "      <td>Introduction to Galaxy Analyses</td>\n",
       "    </tr>\n",
       "    <tr>\n",
       "      <th>4</th>\n",
       "      <td>15/09/2018 20:09:52</td>\n",
       "      <td>5</td>\n",
       "      <td>That all the tools had helpful explanations</td>\n",
       "      <td>If there was a guide to say which tool to use ...</td>\n",
       "      <td>Galaxy 101</td>\n",
       "      <td>Introduction to Galaxy Analyses</td>\n",
       "    </tr>\n",
       "  </tbody>\n",
       "</table>\n",
       "</div>"
      ],
      "text/plain": [
       "             timestamp  note  \\\n",
       "0  09/09/2018 12:35:00     4   \n",
       "1  11/09/2018 23:03:53     5   \n",
       "2  14/09/2018 21:19:59     5   \n",
       "3  15/09/2018 15:24:55     5   \n",
       "4  15/09/2018 20:09:52     5   \n",
       "\n",
       "                                                 pro  \\\n",
       "0                                                NaN   \n",
       "1                                      very detailed   \n",
       "2  very detailed and easy to follow, even for a c...   \n",
       "3        very detailed and easy to follow, thank you   \n",
       "4        That all the tools had helpful explanations   \n",
       "\n",
       "                                                 con  \\\n",
       "0                      the clear instruction pattern   \n",
       "1                                                NaN   \n",
       "2                                                NaN   \n",
       "3                                                NaN   \n",
       "4  If there was a guide to say which tool to use ...   \n",
       "\n",
       "                               tutorial                            topic  \n",
       "0       A short introduction to Galaxy   Introduction to Galaxy Analyses  \n",
       "1       A short introduction to Galaxy   Introduction to Galaxy Analyses  \n",
       "2                           Galaxy 101   Introduction to Galaxy Analyses  \n",
       "3  Introduction to Genomics and Galaxy   Introduction to Galaxy Analyses  \n",
       "4                           Galaxy 101   Introduction to Galaxy Analyses  "
      ]
     },
     "execution_count": 53,
     "metadata": {},
     "output_type": "execute_result"
    }
   ],
   "source": [
    "df.head()"
   ]
  },
  {
   "cell_type": "markdown",
   "metadata": {},
   "source": [
    "# General stats"
   ]
  },
  {
   "cell_type": "code",
   "execution_count": 69,
   "metadata": {},
   "outputs": [
    {
     "data": {
      "text/plain": [
       "1     22\n",
       "2     13\n",
       "3     23\n",
       "4     93\n",
       "5    288\n",
       "Name: note, dtype: int64"
      ]
     },
     "execution_count": 69,
     "metadata": {},
     "output_type": "execute_result"
    }
   ],
   "source": [
    "df.note.value_counts(sort=False)[1:]"
   ]
  },
  {
   "cell_type": "code",
   "execution_count": 71,
   "metadata": {},
   "outputs": [
    {
     "data": {
      "text/plain": [
       "<matplotlib.axes._subplots.AxesSubplot at 0x11abfd0f0>"
      ]
     },
     "execution_count": 71,
     "metadata": {},
     "output_type": "execute_result"
    },
    {
     "data": {
      "image/png": "[encoded data removed]",
      "text/plain": [
       "<Figure size 432x288 with 1 Axes>"
      ]
     },
     "metadata": {
      "needs_background": "light"
     },
     "output_type": "display_data"
    }
   ],
   "source": [
    "#df.note.plot.hist(color='k')\n",
    "df.note.value_counts(sort=False)[1:].plot(kind='barh', color='DarkOrange')"
   ]
  }
 ],
 "metadata": {
  "hide_input": false,
  "kernelspec": {
   "display_name": "Python 3",
   "language": "python",
   "name": "python3"
  },
  "language_info": {
   "codemirror_mode": {
    "name": "ipython",
    "version": 3
   },
   "file_extension": ".py",
   "mimetype": "text/x-python",
   "name": "python",
   "nbconvert_exporter": "python",
   "pygments_lexer": "ipython3",
   "version": "3.6.7"
  },
  "toc": {
   "nav_menu": {},
   "number_sections": true,
   "sideBar": true,
   "skip_h1_title": false,
   "title_cell": "Table of Contents",
   "title_sidebar": "Contents",
   "toc_cell": false,
   "toc_position": {},
   "toc_section_display": true,
   "toc_window_display": false
  }
 },
 "nbformat": 4,
 "nbformat_minor": 2
}
