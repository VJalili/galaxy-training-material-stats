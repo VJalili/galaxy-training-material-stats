{
 "cells": [
  {
   "cell_type": "markdown",
   "metadata": {},
   "source": [
    "Extract the details about the current resources in the Galaxy Training Material and some statistics"
   ]
  },
  {
   "cell_type": "code",
   "execution_count": 57,
   "metadata": {},
   "outputs": [],
   "source": [
    "import base64\n",
    "import matplotlib.pyplot as plt\n",
    "import pandas as pd\n",
    "import yaml\n",
    "\n",
    "from github import Github\n",
    "from pprint import pprint"
   ]
  },
  {
   "cell_type": "markdown",
   "metadata": {},
   "source": [
    "1. Generate a Personal access tokens on GitHub (in Setting)\n",
    "2. Add it to the `../config.yaml` after `github:`"
   ]
  },
  {
   "cell_type": "code",
   "execution_count": 58,
   "metadata": {},
   "outputs": [],
   "source": [
    "with open(\"../config.yaml\", \"r\") as stream:\n",
    "    config = yaml.load(stream)"
   ]
  },
  {
   "cell_type": "code",
   "execution_count": 59,
   "metadata": {},
   "outputs": [],
   "source": [
    "# connect to GitHub\n",
    "g = Github(config[\"github\"])\n",
    "# retrieve the hub repository\n",
    "repo = g.get_user(\"galaxyproject\").get_repo(\"training-material\")"
   ]
  },
  {
   "cell_type": "code",
   "execution_count": 60,
   "metadata": {},
   "outputs": [],
   "source": [
    "# dates and corresponding commit\n",
    "gitcommit_dates = {\"22.06.17\": \"44164c9b\", \"15.05.17\": \"master\"}"
   ]
  },
  {
   "cell_type": "markdown",
   "metadata": {},
   "source": [
    "# Extract training content"
   ]
  },
  {
   "cell_type": "code",
   "execution_count": 61,
   "metadata": {},
   "outputs": [],
   "source": [
    "def get_yaml_content(file_content):\n",
    "    '''\n",
    "    Extract the YAML content of the file from GitHub\n",
    "\n",
    "    :param file_content: the encoded content of the file obtained with GitHub API\n",
    "\n",
    "    :return: content in YAML of the file\n",
    "    '''\n",
    "    decoded_file_content = base64.b64decode(file_content)\n",
    "    yaml_content = yaml.load(decoded_file_content)\n",
    "    return yaml_content"
   ]
  },
  {
   "cell_type": "code",
   "execution_count": 62,
   "metadata": {},
   "outputs": [],
   "source": [
    "def extract_training_content(ref):\n",
    "    '''\n",
    "    Extract the details about the current resources in the Galaxy Training Material\n",
    "\n",
    "    :param ref: name of the commit/branch/tag\n",
    "\n",
    "    :return: dictionary with information about the tutorials in each topic on ref\n",
    "    '''\n",
    "    trainings = {}\n",
    "    for file in repo.get_dir_contents(\"metadata\", ref):\n",
    "        # get only topics\n",
    "        if file.name == \"contributors.yaml\" or file.name == \"instances.yaml\":\n",
    "            continue\n",
    "        yaml_content = get_yaml_content(file.content)\n",
    "        # get topic tutorial\n",
    "        topic = yaml_content['title']\n",
    "        trainings.setdefault(topic, {})\n",
    "        for tuto in yaml_content['material']:\n",
    "            tuto_name = tuto['title']\n",
    "            # skip introduction and not stable tutorials\n",
    "            if tuto['type'] == 'introduction':\n",
    "                continue\n",
    "            if 'enable' in tuto and tuto['enable'] == 'false':\n",
    "                continue\n",
    "            trainings[topic].setdefault(tuto_name, {})\n",
    "            # collect information from the metadata.yaml file\n",
    "            infos = ['hands_on', 'slides', 'galaxy_tour', 'workflows', 'zenodo_link']\n",
    "            for info in infos:\n",
    "                if info in tuto:\n",
    "                    trainings[topic][tuto_name][info] = tuto[info]\n",
    "                else:\n",
    "                    trainings[topic][tuto_name][info] = False\n",
    "            # collect the tool.yaml, data_library.yaml file\n",
    "            tuto_path = \"topics/%s/tutorials/%s\" %(yaml_content['name'], tuto['name'])\n",
    "            trainings[topic][tuto_name]['tools'] = False\n",
    "            trainings[topic][tuto_name]['data_library'] = False\n",
    "            for tuto_file in repo.get_dir_contents(tuto_path, ref):\n",
    "                if tuto_file.name == 'data-library.yaml':\n",
    "                    decoded_file_content = base64.b64decode(tuto_file.content)\n",
    "                    if \"Small file (to change)\" in str(decoded_file_content) or \"Small test files\" in str(decoded_file_content):\n",
    "                        continue\n",
    "                    trainings[topic][tuto_name]['data_library'] = True\n",
    "                elif tuto_file.name == 'tools.yaml':\n",
    "                    decoded_file_content = base64.b64decode(tuto_file.content)\n",
    "                    if \"Where to put the tool\" in str(decoded_file_content):\n",
    "                        continue\n",
    "                    trainings[topic][tuto_name]['tools'] = True\n",
    "    return trainings"
   ]
  },
  {
   "cell_type": "code",
   "execution_count": 63,
   "metadata": {},
   "outputs": [],
   "source": [
    "# extract training content\n",
    "training_contents = {}\n",
    "for d, git_com in gitcommit_dates.items():\n",
    "    training_contents[d] = extract_training_content(git_com)"
   ]
  },
  {
   "cell_type": "markdown",
   "metadata": {},
   "source": [
    "# Extract stats"
   ]
  },
  {
   "cell_type": "code",
   "execution_count": 64,
   "metadata": {},
   "outputs": [],
   "source": [
    "def extract_training_stats(content, date):\n",
    "    '''\n",
    "    Extract the details about the current resources in the Galaxy Training Material\n",
    "\n",
    "    :param content: dictionary with information about the tutorials in each topic on GitHub at the date given\n",
    "    :param date: date corresponding\n",
    "\n",
    "    :return: dictionary with some statistics about the training content on ref\n",
    "    '''\n",
    "    stats = pd.DataFrame({'topics': 0,\n",
    "                          'tutorials': 0,\n",
    "                          'hands_on': 0,\n",
    "                          'slides': 0,\n",
    "                          'galaxy_tour': 0,\n",
    "                          'workflows': 0,\n",
    "                          'zenodo_link': 0,\n",
    "                          'tools': 0,\n",
    "                          'data_library': 0},\n",
    "                          index=[date])\n",
    "    # extract stats\n",
    "    hands_on_info = [\"tools\", \"galaxy_tour\", \"workflows\", \"zenodo_link\", \"data_library\"]\n",
    "    no_hands_on_topic = [\"Development in Galaxy\", \"Contributing to the Galaxy Training Material\", \"Train the trainers\", \"Galaxy Server administration\"]\n",
    "    for topic in content:\n",
    "        stats.loc[date,'topics'] += 1\n",
    "        for tuto in content[topic]:\n",
    "            stats.loc[date,'tutorials'] += 1\n",
    "            for info in list(stats.columns):\n",
    "                if info in content[topic][tuto]:\n",
    "                    if content[topic][tuto][info]:\n",
    "                        if info in hands_on_info and topic in no_hands_on_topic:\n",
    "                            continue\n",
    "                        if content[topic][tuto][info] == \"no\":\n",
    "                            continue\n",
    "                        if content[topic][tuto][info] == \"external\":\n",
    "                            continue\n",
    "                        if content[topic][tuto][info] == \"url to Zenodo with input data\":\n",
    "                            continue\n",
    "                        stats.loc[date,info] += 1\n",
    "                    elif info in hands_on_info and topic not in no_hands_on_topic:\n",
    "                        print(\"%s - %s (%s)\" % (topic, tuto, info))\n",
    "    # reindex\n",
    "    stats = stats[['topics','tutorials','hands_on','slides','tools','workflows','zenodo_link','data_library','galaxy_tour']]\n",
    "    # rename columns\n",
    "    stats = stats.rename(columns={\"topics\":\"Topics\",\n",
    "                                  \"tutorials\":\"Tutorials\",\n",
    "                                  \"hands_on\":\"Hands-on\",\n",
    "                                  \"slides\":\"Slide decks\",\n",
    "                                  \"tools\": \"Tools\",\n",
    "                                  \"workflows\": \"Worflows\",\n",
    "                                  \"zenodo_link\": \"Data on Zenodo\",\n",
    "                                  \"data_library\": \"Data for data libraries\",\n",
    "                                  \"galaxy_tour\": \"Interactive tours\"})\n",
    "    return stats"
   ]
  },
  {
   "cell_type": "code",
   "execution_count": 65,
   "metadata": {
    "scrolled": false
   },
   "outputs": [
    {
     "name": "stdout",
     "output_type": "stream",
     "text": [
      "22.06.17\n",
      "Assembly - Introduction to Genome Assembly (galaxy_tour)\n",
      "Assembly - Introduction to Genome Assembly (workflows)\n",
      "Assembly - De Bruijn Graph Assembly (galaxy_tour)\n",
      "Assembly - De Bruijn Graph Assembly (workflows)\n",
      "ChIP-Seq data analysis - Identification of the binding sites of the T-cell acute lymphocytic leukemia protein 1 (TAL1) (galaxy_tour)\n",
      "ChIP-Seq data analysis - Identification of the binding sites of the T-cell acute lymphocytic leukemia protein 1 (TAL1) (workflows)\n",
      "ChIP-Seq data analysis - ChIP-seq Galaxy Workshop (galaxy_tour)\n",
      "ChIP-Seq data analysis - ChIP-seq Galaxy Workshop (workflows)\n",
      "ChIP-Seq data analysis - ChIP-seq Galaxy Workshop (zenodo_link)\n",
      "ChIP-Seq data analysis - ChIP-seq Galaxy Workshop (data_library)\n",
      "Epigenetics - DNA Methylation data analysis (galaxy_tour)\n",
      "Epigenetics - DNA Methylation data analysis (workflows)\n",
      "Galaxy Introduction - Galaxy 101 (galaxy_tour)\n",
      "Galaxy Introduction - Galaxy 101 (workflows)\n",
      "Galaxy Introduction - Galaxy 101 (zenodo_link)\n",
      "Galaxy Introduction - Galaxy 101 (tools)\n",
      "Galaxy Introduction - Galaxy 101 (data_library)\n",
      "Galaxy Introduction - From peaks to genes (galaxy_tour)\n",
      "Galaxy Introduction - From peaks to genes (workflows)\n",
      "Galaxy Introduction - From peaks to genes (zenodo_link)\n",
      "Galaxy Introduction - From peaks to genes (tools)\n",
      "Galaxy Introduction - From peaks to genes (data_library)\n",
      "Galaxy Introduction - Multisample Analysis (galaxy_tour)\n",
      "Galaxy Introduction - Multisample Analysis (workflows)\n",
      "Galaxy Introduction - Multisample Analysis (tools)\n",
      "Galaxy Introduction - Multisample Analysis (data_library)\n",
      "Galaxy Introduction - Options for using Galaxy (galaxy_tour)\n",
      "Galaxy Introduction - Options for using Galaxy (workflows)\n",
      "Galaxy Introduction - Options for using Galaxy (zenodo_link)\n",
      "Galaxy Introduction - Options for using Galaxy (tools)\n",
      "Galaxy Introduction - Options for using Galaxy (data_library)\n",
      "Galaxy Introduction - IGV Introduction (galaxy_tour)\n",
      "Galaxy Introduction - IGV Introduction (workflows)\n",
      "Galaxy Introduction - IGV Introduction (tools)\n",
      "Galaxy Introduction - IGV Introduction (data_library)\n",
      "Galaxy Introduction - Visualization (galaxy_tour)\n",
      "Galaxy Introduction - Visualization (workflows)\n",
      "Galaxy Introduction - Visualization (zenodo_link)\n",
      "Galaxy Introduction - Visualization (tools)\n",
      "Galaxy Introduction - Visualization (data_library)\n",
      "Galaxy Introduction - Getting data into Galaxy (galaxy_tour)\n",
      "Galaxy Introduction - Getting data into Galaxy (workflows)\n",
      "Galaxy Introduction - Getting data into Galaxy (zenodo_link)\n",
      "Galaxy Introduction - Getting data into Galaxy (tools)\n",
      "Galaxy Introduction - Getting data into Galaxy (data_library)\n",
      "Galaxy Introduction - Collections (galaxy_tour)\n",
      "Galaxy Introduction - Collections (workflows)\n",
      "Galaxy Introduction - Collections (zenodo_link)\n",
      "Galaxy Introduction - Collections (tools)\n",
      "Galaxy Introduction - Collections (data_library)\n",
      "Metagenomics - 16S Microbial Analysis with Mothur (galaxy_tour)\n",
      "Metagenomics - 16S Microbial Analysis with Mothur (workflows)\n",
      "Metagenomics - Analyses of metagenomics data - The global picture (galaxy_tour)\n",
      "Metagenomics - Analyses of metagenomics data - The global picture (workflows)\n",
      "Proteomics - Protein FASTA Database Handling (galaxy_tour)\n",
      "Proteomics - Protein FASTA Database Handling (workflows)\n",
      "Proteomics - Protein FASTA Database Handling (zenodo_link)\n",
      "Proteomics - Protein FASTA Database Handling (tools)\n",
      "Proteomics - Protein FASTA Database Handling (data_library)\n",
      "Proteomics - Metaproteomics tutorial (galaxy_tour)\n",
      "Proteomics - Metaproteomics tutorial (workflows)\n",
      "Proteomics - Metaproteomics tutorial (tools)\n",
      "Proteomics - Metaproteomics tutorial (data_library)\n",
      "Proteomics - Label-free versus Labelled - How to Choose Your Quantitation Method (galaxy_tour)\n",
      "Proteomics - Label-free versus Labelled - How to Choose Your Quantitation Method (workflows)\n",
      "Proteomics - Label-free versus Labelled - How to Choose Your Quantitation Method (zenodo_link)\n",
      "Proteomics - Label-free versus Labelled - How to Choose Your Quantitation Method (tools)\n",
      "Proteomics - Label-free versus Labelled - How to Choose Your Quantitation Method (data_library)\n",
      "Proteomics - ntails (galaxy_tour)\n",
      "Proteomics - ntails (workflows)\n",
      "Proteomics - ntails (tools)\n",
      "Proteomics - ntails (data_library)\n",
      "Proteomics - Peptide and Protein ID (galaxy_tour)\n",
      "Proteomics - Peptide and Protein ID (workflows)\n",
      "Proteomics - Peptide and Protein ID (tools)\n",
      "Proteomics - Peptide and Protein ID (data_library)\n",
      "Proteomics - Secretome Prediction (galaxy_tour)\n",
      "Proteomics - Secretome Prediction (workflows)\n",
      "Proteomics - Secretome Prediction (zenodo_link)\n",
      "Proteomics - Secretome Prediction (tools)\n",
      "Proteomics - Secretome Prediction (data_library)\n",
      "Proteomics - Peptide and Protein Quantification via Stable Isotope Labelling (SIL) (galaxy_tour)\n",
      "Proteomics - Peptide and Protein Quantification via Stable Isotope Labelling (SIL) (workflows)\n",
      "Proteomics - Peptide and Protein Quantification via Stable Isotope Labelling (SIL) (zenodo_link)\n",
      "Proteomics - Peptide and Protein Quantification via Stable Isotope Labelling (SIL) (tools)\n",
      "Proteomics - Peptide and Protein Quantification via Stable Isotope Labelling (SIL) (data_library)\n",
      "Analysis of sequences - Quality Dontrol (galaxy_tour)\n",
      "Analysis of sequences - Quality Dontrol (workflows)\n",
      "Analysis of sequences - Quality Dontrol (zenodo_link)\n",
      "Analysis of sequences - Quality Dontrol (data_library)\n",
      "Analysis of sequences - Mapping (galaxy_tour)\n",
      "Analysis of sequences - Mapping (workflows)\n",
      "Analysis of sequences - Mapping (zenodo_link)\n",
      "Analysis of sequences - Mapping (data_library)\n",
      "Analysis of sequences - Genome Annotation (galaxy_tour)\n",
      "Analysis of sequences - Genome Annotation (workflows)\n",
      "Analysis of sequences - Genome Annotation (data_library)\n",
      "Analysis of sequences - small RNA (galaxy_tour)\n",
      "Analysis of sequences - small RNA (workflows)\n",
      "Analysis of sequences - small RNA (data_library)\n",
      "Analysis of sequences - RAD-Seq Reference-based data analysis (workflows)\n",
      "Analysis of sequences - RAD-Seq Reference-based data analysis (data_library)\n",
      "Analysis of sequences - RAD-Seq de-novo data analysis (workflows)\n",
      "Analysis of sequences - RAD-Seq de-novo data analysis (data_library)\n",
      "Analysis of sequences - RAD-Seq to construct genetic maps (workflows)\n",
      "Analysis of sequences - RAD-Seq to construct genetic maps (data_library)\n",
      "Transcriptomics - De novo transcriptome reconstruction with RNA-seq (galaxy_tour)\n",
      "Transcriptomics - De novo transcriptome reconstruction with RNA-seq (workflows)\n",
      "Transcriptomics - Reference-based RNA-seq data analysis (workflows)\n",
      "Tutorials using public Galaxy at usegalaxy.org - Understanding Galaxy history system (galaxy_tour)\n",
      "Tutorials using public Galaxy at usegalaxy.org - Understanding Galaxy history system (workflows)\n",
      "Tutorials using public Galaxy at usegalaxy.org - Understanding Galaxy history system (zenodo_link)\n",
      "Tutorials using public Galaxy at usegalaxy.org - Understanding Galaxy history system (tools)\n",
      "Tutorials using public Galaxy at usegalaxy.org - Understanding Galaxy history system (data_library)\n",
      "Tutorials using public Galaxy at usegalaxy.org - Using dataset collection (galaxy_tour)\n",
      "Tutorials using public Galaxy at usegalaxy.org - Using dataset collection (workflows)\n",
      "Tutorials using public Galaxy at usegalaxy.org - Using dataset collection (zenodo_link)\n",
      "Tutorials using public Galaxy at usegalaxy.org - Using dataset collection (tools)\n",
      "Tutorials using public Galaxy at usegalaxy.org - Using dataset collection (data_library)\n",
      "Tutorials using public Galaxy at usegalaxy.org - NGS data logistics (galaxy_tour)\n",
      "Tutorials using public Galaxy at usegalaxy.org - NGS data logistics (workflows)\n",
      "Tutorials using public Galaxy at usegalaxy.org - NGS data logistics (zenodo_link)\n",
      "Tutorials using public Galaxy at usegalaxy.org - NGS data logistics (tools)\n",
      "Tutorials using public Galaxy at usegalaxy.org - NGS data logistics (data_library)\n",
      "Tutorials using public Galaxy at usegalaxy.org - Calling variants in non-diploid systems (galaxy_tour)\n",
      "Tutorials using public Galaxy at usegalaxy.org - Calling variants in non-diploid systems (workflows)\n",
      "Tutorials using public Galaxy at usegalaxy.org - Calling variants in non-diploid systems (zenodo_link)\n",
      "Tutorials using public Galaxy at usegalaxy.org - Calling variants in non-diploid systems (tools)\n",
      "Tutorials using public Galaxy at usegalaxy.org - Calling variants in non-diploid systems (data_library)\n",
      "Tutorials using public Galaxy at usegalaxy.org - Calling variants in diploid systems (galaxy_tour)\n",
      "Tutorials using public Galaxy at usegalaxy.org - Calling variants in diploid systems (workflows)\n",
      "Tutorials using public Galaxy at usegalaxy.org - Calling variants in diploid systems (zenodo_link)\n",
      "Tutorials using public Galaxy at usegalaxy.org - Calling variants in diploid systems (tools)\n",
      "Tutorials using public Galaxy at usegalaxy.org - Calling variants in diploid systems (data_library)\n",
      "Tutorials using public Galaxy at usegalaxy.org - Calling very rare variants (galaxy_tour)\n",
      "Tutorials using public Galaxy at usegalaxy.org - Calling very rare variants (workflows)\n",
      "Tutorials using public Galaxy at usegalaxy.org - Calling very rare variants (zenodo_link)\n",
      "Tutorials using public Galaxy at usegalaxy.org - Calling very rare variants (tools)\n",
      "Tutorials using public Galaxy at usegalaxy.org - Calling very rare variants (data_library)\n",
      "Tutorials using public Galaxy at usegalaxy.org - Reference-based RNAseq (galaxy_tour)\n",
      "Tutorials using public Galaxy at usegalaxy.org - Reference-based RNAseq (workflows)\n",
      "Tutorials using public Galaxy at usegalaxy.org - Reference-based RNAseq (zenodo_link)\n",
      "Tutorials using public Galaxy at usegalaxy.org - Reference-based RNAseq (tools)\n",
      "Tutorials using public Galaxy at usegalaxy.org - Reference-based RNAseq (data_library)\n",
      "Variant Analysis - Variant calling: Diploid case (galaxy_tour)\n",
      "Variant Analysis - Variant calling: Diploid case (workflows)\n",
      "Variant Analysis - Variant calling: Diploid case (zenodo_link)\n",
      "Variant Analysis - Variant calling: Diploid case (data_library)\n",
      "Variant Analysis - Exome sequencing data analysis (galaxy_tour)\n",
      "Variant Analysis - Exome sequencing data analysis (workflows)\n",
      "\n",
      "15.05.17\n",
      "Assembly - De Bruijn Graph Assembly (galaxy_tour)\n",
      "Assembly - De Bruijn Graph Assembly (workflows)\n",
      "Assembly - Unicycler Assembly (data_library)\n",
      "Assembly - Making sense of a newly assembled genome (galaxy_tour)\n",
      "Assembly - Making sense of a newly assembled genome (workflows)\n",
      "ChIP-Seq data analysis - Identification of the binding sites of the T-cell acute lymphocytic leukemia protein 1 (TAL1) (workflows)\n",
      "Epigenetics - DNA Methylation data analysis (data_library)\n",
      "Genome Annotation - Genome Annotation (galaxy_tour)\n",
      "Genome Annotation - Genome Annotation (workflows)\n",
      "Genome Annotation - Genome Annotation (data_library)\n",
      "Genome Annotation - Genome annotation with Prokka (galaxy_tour)\n",
      "Introduction to Galaxy - Galaxy 101 (galaxy_tour)\n",
      "Introduction to Galaxy - Galaxy 101 (workflows)\n",
      "Introduction to Galaxy - Galaxy 101 (zenodo_link)\n",
      "Introduction to Galaxy - Galaxy 101 (data_library)\n",
      "Introduction to Galaxy - From peaks to genes (galaxy_tour)\n",
      "Introduction to Galaxy - From peaks to genes (workflows)\n",
      "Introduction to Galaxy - Introduction to Genomics and Galaxy (galaxy_tour)\n",
      "Introduction to Galaxy - Introduction to Genomics and Galaxy (workflows)\n",
      "Introduction to Galaxy - Introduction to Genomics and Galaxy (zenodo_link)\n",
      "Introduction to Galaxy - Introduction to Genomics and Galaxy (tools)\n",
      "Introduction to Galaxy - Introduction to Genomics and Galaxy (data_library)\n",
      "Introduction to Galaxy - Extracting Workflows from Histories (galaxy_tour)\n",
      "Introduction to Galaxy - Extracting Workflows from Histories (workflows)\n",
      "Introduction to Galaxy - Extracting Workflows from Histories (zenodo_link)\n",
      "Introduction to Galaxy - Extracting Workflows from Histories (tools)\n",
      "Introduction to Galaxy - Extracting Workflows from Histories (data_library)\n",
      "Introduction to Galaxy - Multisample Analysis (galaxy_tour)\n",
      "Introduction to Galaxy - Multisample Analysis (workflows)\n",
      "Introduction to Galaxy - Multisample Analysis (zenodo_link)\n",
      "Introduction to Galaxy - Multisample Analysis (tools)\n",
      "Introduction to Galaxy - Multisample Analysis (data_library)\n",
      "Introduction to Galaxy - Options for using Galaxy (galaxy_tour)\n",
      "Introduction to Galaxy - Options for using Galaxy (workflows)\n",
      "Introduction to Galaxy - Options for using Galaxy (zenodo_link)\n",
      "Introduction to Galaxy - Options for using Galaxy (tools)\n",
      "Introduction to Galaxy - Options for using Galaxy (data_library)\n",
      "Introduction to Galaxy - IGV Introduction (galaxy_tour)\n",
      "Introduction to Galaxy - IGV Introduction (workflows)\n",
      "Introduction to Galaxy - IGV Introduction (zenodo_link)\n",
      "Introduction to Galaxy - IGV Introduction (tools)\n",
      "Introduction to Galaxy - IGV Introduction (data_library)\n",
      "Introduction to Galaxy - Getting data into Galaxy (galaxy_tour)\n",
      "Introduction to Galaxy - Getting data into Galaxy (workflows)\n",
      "Introduction to Galaxy - Getting data into Galaxy (zenodo_link)\n",
      "Introduction to Galaxy - Getting data into Galaxy (tools)\n",
      "Introduction to Galaxy - Getting data into Galaxy (data_library)\n",
      "Introduction to Galaxy - Understanding Galaxy history system (galaxy_tour)\n",
      "Introduction to Galaxy - Understanding Galaxy history system (workflows)\n",
      "Introduction to Galaxy - Understanding Galaxy history system (zenodo_link)\n",
      "Introduction to Galaxy - Understanding Galaxy history system (tools)\n",
      "Introduction to Galaxy - Understanding Galaxy history system (data_library)\n",
      "Introduction to Galaxy - Using dataset collection (galaxy_tour)\n",
      "Introduction to Galaxy - Using dataset collection (workflows)\n",
      "Introduction to Galaxy - Using dataset collection (zenodo_link)\n",
      "Introduction to Galaxy - Using dataset collection (tools)\n",
      "Introduction to Galaxy - Using dataset collection (data_library)\n",
      "Introduction to Galaxy - NGS data logistics (galaxy_tour)\n",
      "Introduction to Galaxy - NGS data logistics (workflows)\n",
      "Introduction to Galaxy - NGS data logistics (zenodo_link)\n",
      "Introduction to Galaxy - NGS data logistics (tools)\n",
      "Introduction to Galaxy - NGS data logistics (data_library)\n",
      "Introduction to Galaxy - Rule Based Uploader (galaxy_tour)\n",
      "Introduction to Galaxy - Rule Based Uploader (workflows)\n",
      "Introduction to Galaxy - Rule Based Uploader (zenodo_link)\n",
      "Introduction to Galaxy - Rule Based Uploader (tools)\n",
      "Introduction to Galaxy - Rule Based Uploader (data_library)\n",
      "Proteomics - Protein FASTA Database Handling (zenodo_link)\n",
      "Proteomics - Protein FASTA Database Handling (tools)\n",
      "Proteomics - Protein FASTA Database Handling (data_library)\n",
      "Proteomics - Metaproteomics tutorial (galaxy_tour)\n",
      "Proteomics - Metaproteomics tutorial (data_library)\n",
      "Proteomics - Label-free versus Labelled - How to Choose Your Quantitation Method (galaxy_tour)\n",
      "Proteomics - Label-free versus Labelled - How to Choose Your Quantitation Method (workflows)\n",
      "Proteomics - Label-free versus Labelled - How to Choose Your Quantitation Method (zenodo_link)\n",
      "Proteomics - Label-free versus Labelled - How to Choose Your Quantitation Method (tools)\n",
      "Proteomics - Label-free versus Labelled - How to Choose Your Quantitation Method (data_library)\n",
      "Proteomics - Detection and quantitation of N-termini (degradomics) via N-TAILS (galaxy_tour)\n",
      "Proteomics - Detection and quantitation of N-termini (degradomics) via N-TAILS (zenodo_link)\n",
      "Proteomics - Detection and quantitation of N-termini (degradomics) via N-TAILS (tools)\n",
      "Proteomics - Detection and quantitation of N-termini (degradomics) via N-TAILS (data_library)\n",
      "Proteomics - Peptide and Protein ID using SearchGUI and PeptideShaker (data_library)\n",
      "Proteomics - Peptide and Protein ID using OpenMS tools (data_library)\n",
      "Proteomics - Secretome Prediction (galaxy_tour)\n",
      "Proteomics - Secretome Prediction (tools)\n",
      "Proteomics - Secretome Prediction (data_library)\n",
      "Proteomics - Peptide and Protein Quantification via Stable Isotope Labelling (SIL) (galaxy_tour)\n",
      "Proteomics - Peptide and Protein Quantification via Stable Isotope Labelling (SIL) (workflows)\n",
      "Proteomics - Peptide and Protein Quantification via Stable Isotope Labelling (SIL) (tools)\n",
      "Proteomics - Peptide and Protein Quantification via Stable Isotope Labelling (SIL) (data_library)\n",
      "Sequence analysis - Quality Control (data_library)\n",
      "Sequence analysis - Mapping (data_library)\n",
      "Sequence analysis - RAD-Seq Reference-based data analysis (galaxy_tour)\n",
      "Sequence analysis - RAD-Seq Reference-based data analysis (data_library)\n",
      "Sequence analysis - RAD-Seq de-novo data analysis (galaxy_tour)\n",
      "Sequence analysis - RAD-Seq de-novo data analysis (data_library)\n",
      "Sequence analysis - RAD-Seq to construct genetic maps (galaxy_tour)\n",
      "Sequence analysis - RAD-Seq to construct genetic maps (data_library)\n",
      "Transcriptomics - Differential abundance testing of small RNAs (galaxy_tour)\n",
      "Transcriptomics - Differential abundance testing of small RNAs (data_library)\n"
     ]
    },
    {
     "name": "stdout",
     "output_type": "stream",
     "text": [
      "Transcriptomics - Visualization of RNA-Seq results with CummeRbund (galaxy_tour)\n",
      "Transcriptomics - Visualization of RNA-Seq results with CummeRbund (data_library)\n",
      "Transcriptomics - Reference-based RNAseq data analysis (long) (galaxy_tour)\n",
      "Transcriptomics - Reference-based RNAseq data analysis (long) (workflows)\n",
      "Transcriptomics - Reference-based RNAseq data analysis (long) (zenodo_link)\n",
      "Transcriptomics - Reference-based RNAseq data analysis (long) (tools)\n",
      "Transcriptomics - Reference-based RNAseq data analysis (long) (data_library)\n",
      "Variant Analysis - Exome sequencing data analysis (galaxy_tour)\n",
      "Variant Analysis - Exome sequencing data analysis (workflows)\n",
      "Variant Analysis - Mapping and molecular identification of phenotype-causing mutations (galaxy_tour)\n",
      "Variant Analysis - Microbial Variant Calling (galaxy_tour)\n",
      "Variant Analysis - Calling variants in non-diploid systems (galaxy_tour)\n",
      "Variant Analysis - Calling variants in non-diploid systems (workflows)\n",
      "Variant Analysis - Calling variants in non-diploid systems (tools)\n",
      "Variant Analysis - Calling variants in non-diploid systems (data_library)\n",
      "Variant Analysis - Calling variants in diploid systems (galaxy_tour)\n",
      "Variant Analysis - Calling variants in diploid systems (workflows)\n",
      "Variant Analysis - Calling variants in diploid systems (zenodo_link)\n",
      "Variant Analysis - Calling variants in diploid systems (tools)\n",
      "Variant Analysis - Calling variants in diploid systems (data_library)\n",
      "Variant Analysis - Calling very rare variants (galaxy_tour)\n",
      "Variant Analysis - Calling very rare variants (workflows)\n",
      "Variant Analysis - Calling very rare variants (zenodo_link)\n",
      "Variant Analysis - Calling very rare variants (tools)\n",
      "Variant Analysis - Calling very rare variants (data_library)\n",
      "\n"
     ]
    }
   ],
   "source": [
    "# extract stats\n",
    "training_stats = {}\n",
    "for d, cont in training_contents.items():\n",
    "    print(d)\n",
    "    training_stats[d] = extract_training_stats(cont, d)\n",
    "    print()"
   ]
  },
  {
   "cell_type": "code",
   "execution_count": 66,
   "metadata": {},
   "outputs": [
    {
     "name": "stdout",
     "output_type": "stream",
     "text": [
      "          Topics  Tutorials  Hands-on  Slide decks  Tools  Worflows  \\\n",
      "22.06.17      13         62        48           21     18         0   \n",
      "15.05.17      14         81        63           31     30        26   \n",
      "\n",
      "          Data on Zenodo  Data for data libraries  Interactive tours  \n",
      "22.06.17              14                        9                  4  \n",
      "15.05.17              32                       16                 16  \n"
     ]
    }
   ],
   "source": [
    "# combine stats\n",
    "all_stats = pd.concat(training_stats.values())\n",
    "print(all_stats)"
   ]
  },
  {
   "cell_type": "code",
   "execution_count": 67,
   "metadata": {},
   "outputs": [],
   "source": [
    "# export to csv\n",
    "all_stats.to_csv(\"../data/repo_content_stats\", index = True)"
   ]
  },
  {
   "cell_type": "markdown",
   "metadata": {},
   "source": [
    "# Plot number of topics, tutorials, etc"
   ]
  },
  {
   "cell_type": "code",
   "execution_count": 68,
   "metadata": {},
   "outputs": [],
   "source": [
    "content_stats = all_stats[[\"Topics\", \"Tutorials\", \"Hands-on\", \"Slide decks\"]].transpose()"
   ]
  },
  {
   "cell_type": "code",
   "execution_count": 69,
   "metadata": {},
   "outputs": [
    {
     "data": {
      "image/png": "[encoded data removed]",
      "text/plain": [
       "<Figure size 432x288 with 1 Axes>"
      ]
     },
     "metadata": {},
     "output_type": "display_data"
    }
   ],
   "source": [
    "# plot barplot stats\n",
    "ax = content_stats.plot(kind='bar', legend=True, fontsize=12, color=[\"orange\",\"darkblue\"], title=\"Number in the repository\")\n",
    "ax.set_xticklabels(content_stats.index, rotation=45)\n",
    "plt.tight_layout()\n",
    "plt.savefig(\"../images/repo_content_stat_plot.png\", transparent=True)"
   ]
  },
  {
   "cell_type": "code",
   "execution_count": 70,
   "metadata": {},
   "outputs": [
    {
     "name": "stdout",
     "output_type": "stream",
     "text": [
      "          Both hands-on and slide deck  Only hands-on  Only slide deck\n",
      "22.06.17                     11.290323      66.129032        22.580645\n",
      "15.05.17                     16.049383      61.728395        22.222222\n"
     ]
    }
   ],
   "source": [
    "# extract proportions\n",
    "prop = pd.DataFrame({'Both hands-on and slide deck': 0,\n",
    "                     'Only hands-on': 0,\n",
    "                     'Only slide deck': 0},\n",
    "                     index=all_stats.index)\n",
    "prop['Both hands-on and slide deck'] = (all_stats['Hands-on'] + all_stats['Slide decks'] - all_stats['Tutorials'])/all_stats['Tutorials']\n",
    "prop['Only hands-on'] = all_stats['Hands-on']/all_stats['Tutorials'] - prop['Both hands-on and slide deck']\n",
    "prop['Only slide deck'] = all_stats['Slide decks']/all_stats['Tutorials'] - prop['Both hands-on and slide deck']\n",
    "prop = prop * 100\n",
    "print(prop)"
   ]
  },
  {
   "cell_type": "markdown",
   "metadata": {},
   "source": [
    "# Plot percentages of covered hands-on tutorials"
   ]
  },
  {
   "cell_type": "code",
   "execution_count": 71,
   "metadata": {},
   "outputs": [],
   "source": [
    "tech_support_stats = all_stats[[\"Tools\", \"Worflows\", \"Data on Zenodo\", \"Data for data libraries\", \"Interactive tours\"]].transpose()"
   ]
  },
  {
   "cell_type": "code",
   "execution_count": 72,
   "metadata": {
    "scrolled": true
   },
   "outputs": [
    {
     "data": {
      "image/png": "[encoded data removed]",
      "text/plain": [
       "<Figure size 432x288 with 1 Axes>"
      ]
     },
     "metadata": {},
     "output_type": "display_data"
    }
   ],
   "source": [
    "# plot barplot stats\n",
    "ax = tech_support_stats.plot(kind='bar', legend=True, fontsize=12, color=[\"orange\",\"darkblue\"], title=\"Number in the repository\")\n",
    "ax.set_xticklabels(tech_support_stats.index, rotation=45)\n",
    "plt.tight_layout()\n",
    "plt.savefig(\"../images/tech_support_stat_plot.png\", transparent=True)"
   ]
  },
  {
   "cell_type": "code",
   "execution_count": 73,
   "metadata": {},
   "outputs": [
    {
     "name": "stdout",
     "output_type": "stream",
     "text": [
      "                          22.06.17   15.05.17\n",
      "Tools                    37.500000  47.619048\n",
      "Worflows                  0.000000  41.269841\n",
      "Data on Zenodo           29.166667  50.793651\n",
      "Data for data libraries  18.750000  25.396825\n",
      "Interactive tours         8.333333  25.396825\n"
     ]
    }
   ],
   "source": [
    "# extract proportions\n",
    "tech_support_perc = tech_support_stats\n",
    "for d in list(all_stats.index):\n",
    "    tech_support_perc[[d]] = 100 * tech_support_perc[[d]]/all_stats.loc[d,\"Hands-on\"]\n",
    "print(tech_support_perc)"
   ]
  },
  {
   "cell_type": "code",
   "execution_count": 74,
   "metadata": {},
   "outputs": [
    {
     "data": {
      "image/png": "[encoded data removed]",
      "text/plain": [
       "<Figure size 432x288 with 1 Axes>"
      ]
     },
     "metadata": {},
     "output_type": "display_data"
    }
   ],
   "source": [
    "# plot percentage stats\n",
    "ax = tech_support_perc.plot(kind='bar', legend = True, fontsize=12, color=[\"orange\",\"darkblue\"], title=\"Percentage of covered hands-on tutorials\")\n",
    "ax.set_xticklabels(tech_support_perc.index, rotation=45)\n",
    "plt.tight_layout()\n",
    "plt.savefig(\"../images/tech_support_prop_plot.png\", transparent=True)"
   ]
  }
 ],
 "metadata": {
  "hide_input": false,
  "kernelspec": {
   "display_name": "Python 3",
   "language": "python",
   "name": "python3"
  },
  "language_info": {
   "codemirror_mode": {
    "name": "ipython",
    "version": 3
   },
   "file_extension": ".py",
   "mimetype": "text/x-python",
   "name": "python",
   "nbconvert_exporter": "python",
   "pygments_lexer": "ipython3",
   "version": "3.6.5"
  },
  "toc": {
   "nav_menu": {},
   "number_sections": true,
   "sideBar": true,
   "skip_h1_title": false,
   "title_cell": "Table of Contents",
   "title_sidebar": "Contents",
   "toc_cell": false,
   "toc_position": {},
   "toc_section_display": true,
   "toc_window_display": true
  }
 },
 "nbformat": 4,
 "nbformat_minor": 2
}
